{
 "cells": [
  {
   "cell_type": "markdown",
   "id": "e0f54048",
   "metadata": {},
   "source": [
    "# Lista 5 - Física Computacional II\n",
    "\n",
    "Aluna: Ylana Karolina Santos Lopes"
   ]
  },
  {
   "cell_type": "code",
   "execution_count": 1,
   "id": "f3f707a3",
   "metadata": {},
   "outputs": [],
   "source": [
    "import numpy as np\n",
    "import matplotlib.pyplot as plt\n",
    "import numpy.random as rd"
   ]
  },
  {
   "cell_type": "markdown",
   "id": "1534c2ce",
   "metadata": {},
   "source": [
    "### Problema 1: Volume de uma Hiperesfera"
   ]
  },
  {
   "cell_type": "code",
   "execution_count": 2,
   "id": "83df6c97",
   "metadata": {},
   "outputs": [],
   "source": [
    "n = 1000000 # número de pontos\n",
    "d = 10 # número de dimensões\n",
    "\n",
    "\n",
    "def f(x):\n",
    "    r2 = np.zeros(x.shape[1],float)\n",
    "    \n",
    "    for xi in x:\n",
    "        r2 += xi**2\n",
    "        \n",
    "    return r2 < 1\n",
    "\n",
    "x = rd.random((d,n))*2 - 1\n",
    "\n"
   ]
  },
  {
   "cell_type": "code",
   "execution_count": 3,
   "id": "676a95a0",
   "metadata": {},
   "outputs": [],
   "source": [
    "fx = f(x)\n",
    "I = 2**d/n * np.sum(fx)"
   ]
  },
  {
   "cell_type": "code",
   "execution_count": 4,
   "id": "5ba63b12",
   "metadata": {},
   "outputs": [
    {
     "name": "stdout",
     "output_type": "stream",
     "text": [
      "2.541568\n"
     ]
    }
   ],
   "source": [
    "print(I)"
   ]
  },
  {
   "cell_type": "markdown",
   "id": "3b39c095",
   "metadata": {},
   "source": [
    "### Problema 2\n",
    "#### a)\n",
    "Pegando I dado como no enunciado, podemos ver que a integral diverge em $x = 0$, de forma que temos a desigualdade:\n",
    "$$ x^{-1/2} > \\frac{x^{-1/2}}{e^x +1}$$\n",
    "\n",
    "integrando dos dois lados\n",
    "\n",
    "$$ \\int_{0}^{1} x^-1/2dx > \\int_{0}^{1} \\frac{x^{-1/2}}{e^x + 1} > 0 $$\n",
    "\n",
    "$$ 2 >  \\int_{0}^{1} \\frac{x^{-1/2}}{e^x + 1} > 0 $$\n",
    "\n",
    "Considerando $w(x) = x^{-1/2}$, podemos reescrever$\n",
    "\n",
    "$$ w(x) = x^{-1/2} \\Rightarrow p(x) = \\frac{1}{2\\sqrt{x}} $$\n",
    "\n",
    "De foirma que temos I:\n",
    "\n",
    "$$ I \\approx \\frac{2}{N} \\sum_{i=1}^{N} g(x_i) $$\n",
    "\n",
    "Em que \n",
    "\n",
    "$$  g(x) = \\frac{1}{e^x + 1} \\quad e \\quad f(x) = \\frac{x^{-1/2}}{e^x + 1}$$\n",
    " "
   ]
  },
  {
   "cell_type": "code",
   "execution_count": 5,
   "id": "886d7693",
   "metadata": {},
   "outputs": [],
   "source": [
    "### Letra b)\n",
    "\n",
    "N = 10000000\n",
    "\n",
    "z = rd.random(N)\n",
    "x = z**2\n",
    "\n",
    "def g(x):\n",
    "    return 1/(1+np.exp(x))\n",
    "\n",
    "I = np.sum(g(x))/N*2"
   ]
  },
  {
   "cell_type": "code",
   "execution_count": 6,
   "id": "4b6a89ae",
   "metadata": {},
   "outputs": [
    {
     "name": "stdout",
     "output_type": "stream",
     "text": [
      "0.838962993463592\n"
     ]
    }
   ],
   "source": [
    "print(I)"
   ]
  },
  {
   "cell_type": "markdown",
   "id": "e4c0b029",
   "metadata": {},
   "source": [
    "### Problema 3: O Modelo de Ising\n",
    "#### a), b) c) "
   ]
  },
  {
   "cell_type": "code",
   "execution_count": 68,
   "id": "500500c8",
   "metadata": {},
   "outputs": [],
   "source": [
    "rd.seed(5)\n",
    "\n",
    "N = 20\n",
    "J = 1\n",
    "T = 1\n",
    "kb = 1\n",
    "beta = 1\n",
    "steps = 1000000"
   ]
  },
  {
   "cell_type": "code",
   "execution_count": 69,
   "id": "42cd272c",
   "metadata": {},
   "outputs": [],
   "source": [
    "s = np.empty((N,N),int)\n",
    "\n",
    "for i in range(N):\n",
    "    for j in range(N):\n",
    "        if rd.random() < 0.5:\n",
    "            s[i,j]=1\n",
    "        else:\n",
    "            s[i,j]=-1"
   ]
  },
  {
   "cell_type": "code",
   "execution_count": 70,
   "id": "b4f1c7ec",
   "metadata": {},
   "outputs": [],
   "source": [
    "def ene(s):\n",
    "\n",
    "    s1 = s[:-1,:]*s[1:,:]\n",
    "    s2 = s[:,:-1]*s[:,1:]\n",
    "    \n",
    "    E = -J*(np.sum(s1) + np.sum(s2))\n",
    "    \n",
    "    return E"
   ]
  },
  {
   "cell_type": "code",
   "execution_count": 71,
   "id": "a286abc6",
   "metadata": {},
   "outputs": [
    {
     "name": "stdout",
     "output_type": "stream",
     "text": [
      "-60\n"
     ]
    }
   ],
   "source": [
    "Mplot, eplot = [],[]\n",
    "E1 = ene(s)\n",
    "M = np.sum(s)\n",
    "\n",
    "print(E1)"
   ]
  },
  {
   "cell_type": "code",
   "execution_count": 72,
   "id": "ee369b74",
   "metadata": {},
   "outputs": [],
   "source": [
    "for k in range(steps):\n",
    "    i = rd.randint(N)\n",
    "    j = rd.randint(N)\n",
    "\n",
    "    s[i,j] *=-1\n",
    "\n",
    "    E2 = ene(s)\n",
    "\n",
    "    delE = E2 - E1\n",
    "\n",
    "    if delE>0:\n",
    "        if rd.random() < np.exp(-beta*delE):\n",
    "            E1 = E2 \n",
    "            M = np.sum(s)\n",
    "        else:\n",
    "            s[i,j ]*= -1\n",
    "    else:\n",
    "        E1 = E2 \n",
    "        M = np.sum(s)\n",
    "        \n",
    "    Mplot.append(M)   "
   ]
  },
  {
   "cell_type": "code",
   "execution_count": 73,
   "id": "46aee104",
   "metadata": {},
   "outputs": [
    {
     "data": {
      "text/plain": [
       "Text(0, 0.5, 'Magnetização total')"
      ]
     },
     "execution_count": 73,
     "metadata": {},
     "output_type": "execute_result"
    },
    {
     "data": {
      "image/png": "[encoded data removed]",
      "text/plain": [
       "<Figure size 640x480 with 1 Axes>"
      ]
     },
     "metadata": {},
     "output_type": "display_data"
    }
   ],
   "source": [
    "plt.plot(Mplot, color='blue')\n",
    "plt.xlabel('tempo')\n",
    "plt.ylabel('Magnetização total')"
   ]
  },
  {
   "cell_type": "markdown",
   "id": "32908dd3",
   "metadata": {},
   "source": [
    "#### d) \n",
    "Quando o número de passos (steps) é menor ($~10^4$), é possível perceber a oscilação da magnetização até chegar ao equilibrio em cerca de 400. AO aumentarmos o número de passos para 1 milhão, vemos que o gráfico passa a ter um comportamento expontâneo, se estabilizando bem mais rápido que os outros casos. Isso se dá por estasrmos tratando de um material ferromagnético, onde a menor energia se dá quando os dipolos estão alinhados, logo se estabilizando."
   ]
  },
  {
   "cell_type": "markdown",
   "id": "45652083",
   "metadata": {},
   "source": [
    "### Problema 4: O mínimo global de uma função\n",
    "#### a) "
   ]
  },
  {
   "cell_type": "code",
   "execution_count": 45,
   "id": "a1dfd7be",
   "metadata": {},
   "outputs": [],
   "source": [
    "Tmax = 1\n",
    "Tmin = 1e-3\n",
    "tau = 1e4\n",
    "x0 = 2"
   ]
  },
  {
   "cell_type": "code",
   "execution_count": 52,
   "id": "d62eb28e",
   "metadata": {},
   "outputs": [],
   "source": [
    "def f(x):\n",
    "    return x**2 - np.cos(4*np.pi*x)\n",
    "\n",
    "fx = f(x0)\n",
    "t = 0\n",
    "T = Tmax\n",
    "x = x0\n",
    "xlist = []"
   ]
  },
  {
   "cell_type": "code",
   "execution_count": 53,
   "id": "15fab6bc",
   "metadata": {},
   "outputs": [],
   "source": [
    "while T > Tmin:\n",
    "    \n",
    "    t += 1\n",
    "    T = Tmax*np.exp(-t/tau)\n",
    "\n",
    "    prior_X = x\n",
    "    prior_fx = fx\n",
    "    r = rd.standard_normal()\n",
    "    x += r\n",
    "    fx = f(x)\n",
    "\n",
    "    delta_fx = fx - prior_fx\n",
    "\n",
    "    if rd.random()>np.exp(-delta_fx/T):\n",
    "        x = prior_X\n",
    "        fx = prior_fx\n",
    "    xlist.append(x)"
   ]
  },
  {
   "cell_type": "code",
   "execution_count": 57,
   "id": "62eb7cec",
   "metadata": {},
   "outputs": [
    {
     "data": {
      "text/plain": [
       "[<matplotlib.lines.Line2D at 0x1b50101f990>]"
      ]
     },
     "execution_count": 57,
     "metadata": {},
     "output_type": "execute_result"
    },
    {
     "data": {
      "image/png": "[encoded data removed]",
      "text/plain": [
       "<Figure size 640x480 with 1 Axes>"
      ]
     },
     "metadata": {},
     "output_type": "display_data"
    }
   ],
   "source": [
    "plt.plot(xlist, '.')\n"
   ]
  },
  {
   "cell_type": "code",
   "execution_count": 48,
   "id": "8f1129af",
   "metadata": {},
   "outputs": [
    {
     "name": "stdout",
     "output_type": "stream",
     "text": [
      "-0.002267534689587008\n"
     ]
    }
   ],
   "source": [
    "print(x) ## bem próximo de x = 0"
   ]
  },
  {
   "cell_type": "markdown",
   "id": "15e1fece",
   "metadata": {},
   "source": [
    "#### b)"
   ]
  },
  {
   "cell_type": "code",
   "execution_count": 62,
   "id": "9e27ba79",
   "metadata": {},
   "outputs": [],
   "source": [
    "def g(x):\n",
    "    if x > 0 and x < 50:\n",
    "        return np.cos(x) + np.cos(np.sqrt(2)*x + np.cos(np.sqrt(3)*x))\n",
    "    else:\n",
    "        return 1e10"
   ]
  },
  {
   "cell_type": "code",
   "execution_count": 67,
   "id": "7072639b",
   "metadata": {},
   "outputs": [],
   "source": [
    "x0 = 1\n",
    "gx = g(x0)\n",
    "t = 0\n",
    "x = x0\n",
    "T = Tmax\n",
    "xlist = []\n",
    "\n",
    "while T > Tmin:\n",
    "    \n",
    "    t += 1\n",
    "    T = Tmax*np.exp(-t/tau)\n",
    "\n",
    "    prior_X = x\n",
    "    prior_gx = gx\n",
    "    r = rd.standard_normal()\n",
    "    x += r\n",
    "    gx = g(x)\n",
    "\n",
    "    delta_gx = gx - prior_gx\n",
    "\n",
    "    if rd.random()>np.exp(-delta_gx/T):\n",
    "        x = prior_X\n",
    "        gx = prior_gx\n",
    "\n",
    "    xlist.append(x)"
   ]
  },
  {
   "cell_type": "code",
   "execution_count": 64,
   "id": "848f69da",
   "metadata": {},
   "outputs": [
    {
     "data": {
      "text/plain": [
       "[<matplotlib.lines.Line2D at 0x1b50255ee50>]"
      ]
     },
     "execution_count": 64,
     "metadata": {},
     "output_type": "execute_result"
    },
    {
     "data": {
      "image/png": "[encoded data removed]",
      "text/plain": [
       "<Figure size 640x480 with 1 Axes>"
      ]
     },
     "metadata": {},
     "output_type": "display_data"
    }
   ],
   "source": [
    "plt.plot(xlist, '.')"
   ]
  },
  {
   "cell_type": "code",
   "execution_count": 65,
   "id": "3439180d",
   "metadata": {},
   "outputs": [
    {
     "name": "stdout",
     "output_type": "stream",
     "text": [
      "15.697212143297392\n"
     ]
    }
   ],
   "source": [
    "print(x)"
   ]
  },
  {
   "cell_type": "code",
   "execution_count": null,
   "id": "b7509b10",
   "metadata": {},
   "outputs": [],
   "source": []
  }
 ],
 "metadata": {
  "kernelspec": {
   "display_name": "Python 3 (ipykernel)",
   "language": "python",
   "name": "python3"
  },
  "language_info": {
   "codemirror_mode": {
    "name": "ipython",
    "version": 3
   },
   "file_extension": ".py",
   "mimetype": "text/x-python",
   "name": "python",
   "nbconvert_exporter": "python",
   "pygments_lexer": "ipython3",
   "version": "3.11.8"
  }
 },
 "nbformat": 4,
 "nbformat_minor": 5
}
